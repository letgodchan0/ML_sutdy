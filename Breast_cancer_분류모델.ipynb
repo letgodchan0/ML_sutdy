{
 "cells": [
  {
   "cell_type": "markdown",
   "metadata": {},
   "source": [
    "# 04. 분류모델\n",
    "\n",
    "유방암 여부를 분류하는 문제를 다양한 분류모델로 활용한 내용입니다.\n",
    "\n",
    "* **분석데이터**:\n",
    "  https://scikit-learn.org/stable/modules/generated/sklearn.datasets.load_breast_cancer.html#sklearn.datasets.load_breast_cancer\n",
    "  \n",
    "  \n",
    "  \n",
    "  \n",
    "  \n",
    "* **환경설정**:  \n",
    " 1) xgboost설치\n",
    "  - Anaconda Prompt실행\n",
    "  - 설치명령어:conda install -c anaconda py-xgboost\n",
    "  \n",
    " 2) lightgbm설치\n",
    "  - Visual Studio Build tool 2015 이상 설치\n",
    "  - 설치명령어:conda install -c conda-forge lightgbm\n",
    "\n",
    " 3) 설치 여부 확인    \n",
    "  import xgboost  \n",
    "  print(xgboost.__version__)"
   ]
  },
  {
   "cell_type": "code",
   "execution_count": 1,
   "metadata": {},
   "outputs": [],
   "source": [
    "import xgboost\n",
    "import lightgbm"
   ]
  },
  {
   "cell_type": "code",
   "execution_count": 2,
   "metadata": {},
   "outputs": [
    {
     "name": "stdout",
     "output_type": "stream",
     "text": [
      "1.5.0\n"
     ]
    }
   ],
   "source": [
    "print(xgboost.__version__)"
   ]
  },
  {
   "cell_type": "code",
   "execution_count": 3,
   "metadata": {},
   "outputs": [
    {
     "name": "stdout",
     "output_type": "stream",
     "text": [
      "3.3.1\n"
     ]
    }
   ],
   "source": [
    "print(lightgbm.__version__)"
   ]
  },
  {
   "cell_type": "markdown",
   "metadata": {},
   "source": [
    "## Step0. 준비"
   ]
  },
  {
   "cell_type": "markdown",
   "metadata": {},
   "source": [
    "### 라이브러리 로딩"
   ]
  },
  {
   "cell_type": "code",
   "execution_count": 4,
   "metadata": {},
   "outputs": [],
   "source": [
    "import pandas as pd\n",
    "import seaborn as sns\n",
    "from sklearn.datasets import load_breast_cancer\n",
    "import warnings   # warnings 메세지 안보기\n",
    "warnings.filterwarnings('ignore')"
   ]
  },
  {
   "cell_type": "markdown",
   "metadata": {},
   "source": [
    "### 데이터 로딩"
   ]
  },
  {
   "cell_type": "code",
   "execution_count": 5,
   "metadata": {},
   "outputs": [],
   "source": [
    "breast_cancer = load_breast_cancer()"
   ]
  },
  {
   "cell_type": "code",
   "execution_count": 6,
   "metadata": {},
   "outputs": [
    {
     "data": {
      "text/plain": [
       "array(['mean radius', 'mean texture', 'mean perimeter', 'mean area',\n",
       "       'mean smoothness', 'mean compactness', 'mean concavity',\n",
       "       'mean concave points', 'mean symmetry', 'mean fractal dimension',\n",
       "       'radius error', 'texture error', 'perimeter error', 'area error',\n",
       "       'smoothness error', 'compactness error', 'concavity error',\n",
       "       'concave points error', 'symmetry error',\n",
       "       'fractal dimension error', 'worst radius', 'worst texture',\n",
       "       'worst perimeter', 'worst area', 'worst smoothness',\n",
       "       'worst compactness', 'worst concavity', 'worst concave points',\n",
       "       'worst symmetry', 'worst fractal dimension'], dtype='<U23')"
      ]
     },
     "execution_count": 6,
     "metadata": {},
     "output_type": "execute_result"
    }
   ],
   "source": [
    "breast_cancer.feature_names"
   ]
  },
  {
   "cell_type": "code",
   "execution_count": 7,
   "metadata": {},
   "outputs": [
    {
     "data": {
      "text/plain": [
       "array([[1.799e+01, 1.038e+01, 1.228e+02, ..., 2.654e-01, 4.601e-01,\n",
       "        1.189e-01],\n",
       "       [2.057e+01, 1.777e+01, 1.329e+02, ..., 1.860e-01, 2.750e-01,\n",
       "        8.902e-02],\n",
       "       [1.969e+01, 2.125e+01, 1.300e+02, ..., 2.430e-01, 3.613e-01,\n",
       "        8.758e-02],\n",
       "       ...,\n",
       "       [1.660e+01, 2.808e+01, 1.083e+02, ..., 1.418e-01, 2.218e-01,\n",
       "        7.820e-02],\n",
       "       [2.060e+01, 2.933e+01, 1.401e+02, ..., 2.650e-01, 4.087e-01,\n",
       "        1.240e-01],\n",
       "       [7.760e+00, 2.454e+01, 4.792e+01, ..., 0.000e+00, 2.871e-01,\n",
       "        7.039e-02]])"
      ]
     },
     "execution_count": 7,
     "metadata": {},
     "output_type": "execute_result"
    }
   ],
   "source": [
    "breast_cancer.data"
   ]
  },
  {
   "cell_type": "code",
   "execution_count": 8,
   "metadata": {},
   "outputs": [
    {
     "data": {
      "text/plain": [
       "array([0, 0, 0, 0, 0, 0, 0, 0, 0, 0, 0, 0, 0, 0, 0, 0, 0, 0, 0, 1, 1, 1,\n",
       "       0, 0, 0, 0, 0, 0, 0, 0, 0, 0, 0, 0, 0, 0, 0, 1, 0, 0, 0, 0, 0, 0,\n",
       "       0, 0, 1, 0, 1, 1, 1, 1, 1, 0, 0, 1, 0, 0, 1, 1, 1, 1, 0, 1, 0, 0,\n",
       "       1, 1, 1, 1, 0, 1, 0, 0, 1, 0, 1, 0, 0, 1, 1, 1, 0, 0, 1, 0, 0, 0,\n",
       "       1, 1, 1, 0, 1, 1, 0, 0, 1, 1, 1, 0, 0, 1, 1, 1, 1, 0, 1, 1, 0, 1,\n",
       "       1, 1, 1, 1, 1, 1, 1, 0, 0, 0, 1, 0, 0, 1, 1, 1, 0, 0, 1, 0, 1, 0,\n",
       "       0, 1, 0, 0, 1, 1, 0, 1, 1, 0, 1, 1, 1, 1, 0, 1, 1, 1, 1, 1, 1, 1,\n",
       "       1, 1, 0, 1, 1, 1, 1, 0, 0, 1, 0, 1, 1, 0, 0, 1, 1, 0, 0, 1, 1, 1,\n",
       "       1, 0, 1, 1, 0, 0, 0, 1, 0, 1, 0, 1, 1, 1, 0, 1, 1, 0, 0, 1, 0, 0,\n",
       "       0, 0, 1, 0, 0, 0, 1, 0, 1, 0, 1, 1, 0, 1, 0, 0, 0, 0, 1, 1, 0, 0,\n",
       "       1, 1, 1, 0, 1, 1, 1, 1, 1, 0, 0, 1, 1, 0, 1, 1, 0, 0, 1, 0, 1, 1,\n",
       "       1, 1, 0, 1, 1, 1, 1, 1, 0, 1, 0, 0, 0, 0, 0, 0, 0, 0, 0, 0, 0, 0,\n",
       "       0, 0, 1, 1, 1, 1, 1, 1, 0, 1, 0, 1, 1, 0, 1, 1, 0, 1, 0, 0, 1, 1,\n",
       "       1, 1, 1, 1, 1, 1, 1, 1, 1, 1, 1, 0, 1, 1, 0, 1, 0, 1, 1, 1, 1, 1,\n",
       "       1, 1, 1, 1, 1, 1, 1, 1, 1, 0, 1, 1, 1, 0, 1, 0, 1, 1, 1, 1, 0, 0,\n",
       "       0, 1, 1, 1, 1, 0, 1, 0, 1, 0, 1, 1, 1, 0, 1, 1, 1, 1, 1, 1, 1, 0,\n",
       "       0, 0, 1, 1, 1, 1, 1, 1, 1, 1, 1, 1, 1, 0, 0, 1, 0, 0, 0, 1, 0, 0,\n",
       "       1, 1, 1, 1, 1, 0, 1, 1, 1, 1, 1, 0, 1, 1, 1, 0, 1, 1, 0, 0, 1, 1,\n",
       "       1, 1, 1, 1, 0, 1, 1, 1, 1, 1, 1, 1, 0, 1, 1, 1, 1, 1, 0, 1, 1, 0,\n",
       "       1, 1, 1, 1, 1, 1, 1, 1, 1, 1, 1, 1, 0, 1, 0, 0, 1, 0, 1, 1, 1, 1,\n",
       "       1, 0, 1, 1, 0, 1, 0, 1, 1, 0, 1, 0, 1, 1, 1, 1, 1, 1, 1, 1, 0, 0,\n",
       "       1, 1, 1, 1, 1, 1, 0, 1, 1, 1, 1, 1, 1, 1, 1, 1, 1, 0, 1, 1, 1, 1,\n",
       "       1, 1, 1, 0, 1, 0, 1, 1, 0, 1, 1, 1, 1, 1, 0, 0, 1, 0, 1, 0, 1, 1,\n",
       "       1, 1, 1, 0, 1, 1, 0, 1, 0, 1, 0, 0, 1, 1, 1, 0, 1, 1, 1, 1, 1, 1,\n",
       "       1, 1, 1, 1, 1, 0, 1, 0, 0, 1, 1, 1, 1, 1, 1, 1, 1, 1, 1, 1, 1, 1,\n",
       "       1, 1, 1, 1, 1, 1, 1, 1, 1, 1, 1, 1, 0, 0, 0, 0, 0, 0, 1])"
      ]
     },
     "execution_count": 8,
     "metadata": {},
     "output_type": "execute_result"
    }
   ],
   "source": [
    "breast_cancer.target"
   ]
  },
  {
   "cell_type": "code",
   "execution_count": 9,
   "metadata": {},
   "outputs": [
    {
     "data": {
      "text/plain": [
       "array(['malignant', 'benign'], dtype='<U9')"
      ]
     },
     "execution_count": 9,
     "metadata": {},
     "output_type": "execute_result"
    }
   ],
   "source": [
    "breast_cancer.target_names"
   ]
  },
  {
   "cell_type": "code",
   "execution_count": 10,
   "metadata": {},
   "outputs": [
    {
     "data": {
      "text/html": [
       "<div>\n",
       "<style scoped>\n",
       "    .dataframe tbody tr th:only-of-type {\n",
       "        vertical-align: middle;\n",
       "    }\n",
       "\n",
       "    .dataframe tbody tr th {\n",
       "        vertical-align: top;\n",
       "    }\n",
       "\n",
       "    .dataframe thead th {\n",
       "        text-align: right;\n",
       "    }\n",
       "</style>\n",
       "<table border=\"1\" class=\"dataframe\">\n",
       "  <thead>\n",
       "    <tr style=\"text-align: right;\">\n",
       "      <th></th>\n",
       "      <th>mean radius</th>\n",
       "      <th>mean texture</th>\n",
       "      <th>mean perimeter</th>\n",
       "      <th>mean area</th>\n",
       "      <th>mean smoothness</th>\n",
       "      <th>mean compactness</th>\n",
       "      <th>mean concavity</th>\n",
       "      <th>mean concave points</th>\n",
       "      <th>mean symmetry</th>\n",
       "      <th>mean fractal dimension</th>\n",
       "      <th>...</th>\n",
       "      <th>worst texture</th>\n",
       "      <th>worst perimeter</th>\n",
       "      <th>worst area</th>\n",
       "      <th>worst smoothness</th>\n",
       "      <th>worst compactness</th>\n",
       "      <th>worst concavity</th>\n",
       "      <th>worst concave points</th>\n",
       "      <th>worst symmetry</th>\n",
       "      <th>worst fractal dimension</th>\n",
       "      <th>label</th>\n",
       "    </tr>\n",
       "  </thead>\n",
       "  <tbody>\n",
       "    <tr>\n",
       "      <th>0</th>\n",
       "      <td>17.99</td>\n",
       "      <td>10.38</td>\n",
       "      <td>122.80</td>\n",
       "      <td>1001.0</td>\n",
       "      <td>0.11840</td>\n",
       "      <td>0.27760</td>\n",
       "      <td>0.3001</td>\n",
       "      <td>0.14710</td>\n",
       "      <td>0.2419</td>\n",
       "      <td>0.07871</td>\n",
       "      <td>...</td>\n",
       "      <td>17.33</td>\n",
       "      <td>184.60</td>\n",
       "      <td>2019.0</td>\n",
       "      <td>0.1622</td>\n",
       "      <td>0.6656</td>\n",
       "      <td>0.7119</td>\n",
       "      <td>0.2654</td>\n",
       "      <td>0.4601</td>\n",
       "      <td>0.11890</td>\n",
       "      <td>0</td>\n",
       "    </tr>\n",
       "    <tr>\n",
       "      <th>1</th>\n",
       "      <td>20.57</td>\n",
       "      <td>17.77</td>\n",
       "      <td>132.90</td>\n",
       "      <td>1326.0</td>\n",
       "      <td>0.08474</td>\n",
       "      <td>0.07864</td>\n",
       "      <td>0.0869</td>\n",
       "      <td>0.07017</td>\n",
       "      <td>0.1812</td>\n",
       "      <td>0.05667</td>\n",
       "      <td>...</td>\n",
       "      <td>23.41</td>\n",
       "      <td>158.80</td>\n",
       "      <td>1956.0</td>\n",
       "      <td>0.1238</td>\n",
       "      <td>0.1866</td>\n",
       "      <td>0.2416</td>\n",
       "      <td>0.1860</td>\n",
       "      <td>0.2750</td>\n",
       "      <td>0.08902</td>\n",
       "      <td>0</td>\n",
       "    </tr>\n",
       "    <tr>\n",
       "      <th>2</th>\n",
       "      <td>19.69</td>\n",
       "      <td>21.25</td>\n",
       "      <td>130.00</td>\n",
       "      <td>1203.0</td>\n",
       "      <td>0.10960</td>\n",
       "      <td>0.15990</td>\n",
       "      <td>0.1974</td>\n",
       "      <td>0.12790</td>\n",
       "      <td>0.2069</td>\n",
       "      <td>0.05999</td>\n",
       "      <td>...</td>\n",
       "      <td>25.53</td>\n",
       "      <td>152.50</td>\n",
       "      <td>1709.0</td>\n",
       "      <td>0.1444</td>\n",
       "      <td>0.4245</td>\n",
       "      <td>0.4504</td>\n",
       "      <td>0.2430</td>\n",
       "      <td>0.3613</td>\n",
       "      <td>0.08758</td>\n",
       "      <td>0</td>\n",
       "    </tr>\n",
       "    <tr>\n",
       "      <th>3</th>\n",
       "      <td>11.42</td>\n",
       "      <td>20.38</td>\n",
       "      <td>77.58</td>\n",
       "      <td>386.1</td>\n",
       "      <td>0.14250</td>\n",
       "      <td>0.28390</td>\n",
       "      <td>0.2414</td>\n",
       "      <td>0.10520</td>\n",
       "      <td>0.2597</td>\n",
       "      <td>0.09744</td>\n",
       "      <td>...</td>\n",
       "      <td>26.50</td>\n",
       "      <td>98.87</td>\n",
       "      <td>567.7</td>\n",
       "      <td>0.2098</td>\n",
       "      <td>0.8663</td>\n",
       "      <td>0.6869</td>\n",
       "      <td>0.2575</td>\n",
       "      <td>0.6638</td>\n",
       "      <td>0.17300</td>\n",
       "      <td>0</td>\n",
       "    </tr>\n",
       "    <tr>\n",
       "      <th>4</th>\n",
       "      <td>20.29</td>\n",
       "      <td>14.34</td>\n",
       "      <td>135.10</td>\n",
       "      <td>1297.0</td>\n",
       "      <td>0.10030</td>\n",
       "      <td>0.13280</td>\n",
       "      <td>0.1980</td>\n",
       "      <td>0.10430</td>\n",
       "      <td>0.1809</td>\n",
       "      <td>0.05883</td>\n",
       "      <td>...</td>\n",
       "      <td>16.67</td>\n",
       "      <td>152.20</td>\n",
       "      <td>1575.0</td>\n",
       "      <td>0.1374</td>\n",
       "      <td>0.2050</td>\n",
       "      <td>0.4000</td>\n",
       "      <td>0.1625</td>\n",
       "      <td>0.2364</td>\n",
       "      <td>0.07678</td>\n",
       "      <td>0</td>\n",
       "    </tr>\n",
       "  </tbody>\n",
       "</table>\n",
       "<p>5 rows × 31 columns</p>\n",
       "</div>"
      ],
      "text/plain": [
       "   mean radius  mean texture  mean perimeter  mean area  mean smoothness  \\\n",
       "0        17.99         10.38          122.80     1001.0          0.11840   \n",
       "1        20.57         17.77          132.90     1326.0          0.08474   \n",
       "2        19.69         21.25          130.00     1203.0          0.10960   \n",
       "3        11.42         20.38           77.58      386.1          0.14250   \n",
       "4        20.29         14.34          135.10     1297.0          0.10030   \n",
       "\n",
       "   mean compactness  mean concavity  mean concave points  mean symmetry  \\\n",
       "0           0.27760          0.3001              0.14710         0.2419   \n",
       "1           0.07864          0.0869              0.07017         0.1812   \n",
       "2           0.15990          0.1974              0.12790         0.2069   \n",
       "3           0.28390          0.2414              0.10520         0.2597   \n",
       "4           0.13280          0.1980              0.10430         0.1809   \n",
       "\n",
       "   mean fractal dimension  ...  worst texture  worst perimeter  worst area  \\\n",
       "0                 0.07871  ...          17.33           184.60      2019.0   \n",
       "1                 0.05667  ...          23.41           158.80      1956.0   \n",
       "2                 0.05999  ...          25.53           152.50      1709.0   \n",
       "3                 0.09744  ...          26.50            98.87       567.7   \n",
       "4                 0.05883  ...          16.67           152.20      1575.0   \n",
       "\n",
       "   worst smoothness  worst compactness  worst concavity  worst concave points  \\\n",
       "0            0.1622             0.6656           0.7119                0.2654   \n",
       "1            0.1238             0.1866           0.2416                0.1860   \n",
       "2            0.1444             0.4245           0.4504                0.2430   \n",
       "3            0.2098             0.8663           0.6869                0.2575   \n",
       "4            0.1374             0.2050           0.4000                0.1625   \n",
       "\n",
       "   worst symmetry  worst fractal dimension  label  \n",
       "0          0.4601                  0.11890      0  \n",
       "1          0.2750                  0.08902      0  \n",
       "2          0.3613                  0.08758      0  \n",
       "3          0.6638                  0.17300      0  \n",
       "4          0.2364                  0.07678      0  \n",
       "\n",
       "[5 rows x 31 columns]"
      ]
     },
     "execution_count": 10,
     "metadata": {},
     "output_type": "execute_result"
    }
   ],
   "source": [
    "breast_cancer_df = pd.DataFrame(data=breast_cancer.data, columns=breast_cancer.feature_names)\n",
    "breast_cancer_df['label'] = breast_cancer.target\n",
    "breast_cancer_df.head()"
   ]
  },
  {
   "cell_type": "markdown",
   "metadata": {},
   "source": [
    "## Step1. 데이터 전처리"
   ]
  },
  {
   "cell_type": "markdown",
   "metadata": {},
   "source": [
    "### [1] 분석할 데이터는 몇 개의 feature, 몇 개의 데이터인지 확인하기"
   ]
  },
  {
   "cell_type": "code",
   "execution_count": 11,
   "metadata": {},
   "outputs": [
    {
     "name": "stdout",
     "output_type": "stream",
     "text": [
      "<class 'pandas.core.frame.DataFrame'>\n",
      "RangeIndex: 569 entries, 0 to 568\n",
      "Data columns (total 31 columns):\n",
      " #   Column                   Non-Null Count  Dtype  \n",
      "---  ------                   --------------  -----  \n",
      " 0   mean radius              569 non-null    float64\n",
      " 1   mean texture             569 non-null    float64\n",
      " 2   mean perimeter           569 non-null    float64\n",
      " 3   mean area                569 non-null    float64\n",
      " 4   mean smoothness          569 non-null    float64\n",
      " 5   mean compactness         569 non-null    float64\n",
      " 6   mean concavity           569 non-null    float64\n",
      " 7   mean concave points      569 non-null    float64\n",
      " 8   mean symmetry            569 non-null    float64\n",
      " 9   mean fractal dimension   569 non-null    float64\n",
      " 10  radius error             569 non-null    float64\n",
      " 11  texture error            569 non-null    float64\n",
      " 12  perimeter error          569 non-null    float64\n",
      " 13  area error               569 non-null    float64\n",
      " 14  smoothness error         569 non-null    float64\n",
      " 15  compactness error        569 non-null    float64\n",
      " 16  concavity error          569 non-null    float64\n",
      " 17  concave points error     569 non-null    float64\n",
      " 18  symmetry error           569 non-null    float64\n",
      " 19  fractal dimension error  569 non-null    float64\n",
      " 20  worst radius             569 non-null    float64\n",
      " 21  worst texture            569 non-null    float64\n",
      " 22  worst perimeter          569 non-null    float64\n",
      " 23  worst area               569 non-null    float64\n",
      " 24  worst smoothness         569 non-null    float64\n",
      " 25  worst compactness        569 non-null    float64\n",
      " 26  worst concavity          569 non-null    float64\n",
      " 27  worst concave points     569 non-null    float64\n",
      " 28  worst symmetry           569 non-null    float64\n",
      " 29  worst fractal dimension  569 non-null    float64\n",
      " 30  label                    569 non-null    int32  \n",
      "dtypes: float64(30), int32(1)\n",
      "memory usage: 135.7 KB\n"
     ]
    }
   ],
   "source": [
    "# 데이터프레임의 요약 정보\n",
    "breast_cancer_df.info()"
   ]
  },
  {
   "cell_type": "markdown",
   "metadata": {},
   "source": [
    "### [2] 분석할 데이터의 통계정보를 살펴보기"
   ]
  },
  {
   "cell_type": "code",
   "execution_count": 12,
   "metadata": {},
   "outputs": [
    {
     "data": {
      "text/html": [
       "<div>\n",
       "<style scoped>\n",
       "    .dataframe tbody tr th:only-of-type {\n",
       "        vertical-align: middle;\n",
       "    }\n",
       "\n",
       "    .dataframe tbody tr th {\n",
       "        vertical-align: top;\n",
       "    }\n",
       "\n",
       "    .dataframe thead th {\n",
       "        text-align: right;\n",
       "    }\n",
       "</style>\n",
       "<table border=\"1\" class=\"dataframe\">\n",
       "  <thead>\n",
       "    <tr style=\"text-align: right;\">\n",
       "      <th></th>\n",
       "      <th>mean radius</th>\n",
       "      <th>mean texture</th>\n",
       "      <th>mean perimeter</th>\n",
       "      <th>mean area</th>\n",
       "      <th>mean smoothness</th>\n",
       "      <th>mean compactness</th>\n",
       "      <th>mean concavity</th>\n",
       "      <th>mean concave points</th>\n",
       "      <th>mean symmetry</th>\n",
       "      <th>mean fractal dimension</th>\n",
       "      <th>...</th>\n",
       "      <th>worst texture</th>\n",
       "      <th>worst perimeter</th>\n",
       "      <th>worst area</th>\n",
       "      <th>worst smoothness</th>\n",
       "      <th>worst compactness</th>\n",
       "      <th>worst concavity</th>\n",
       "      <th>worst concave points</th>\n",
       "      <th>worst symmetry</th>\n",
       "      <th>worst fractal dimension</th>\n",
       "      <th>label</th>\n",
       "    </tr>\n",
       "  </thead>\n",
       "  <tbody>\n",
       "    <tr>\n",
       "      <th>count</th>\n",
       "      <td>569.000000</td>\n",
       "      <td>569.000000</td>\n",
       "      <td>569.000000</td>\n",
       "      <td>569.000000</td>\n",
       "      <td>569.000000</td>\n",
       "      <td>569.000000</td>\n",
       "      <td>569.000000</td>\n",
       "      <td>569.000000</td>\n",
       "      <td>569.000000</td>\n",
       "      <td>569.000000</td>\n",
       "      <td>...</td>\n",
       "      <td>569.000000</td>\n",
       "      <td>569.000000</td>\n",
       "      <td>569.000000</td>\n",
       "      <td>569.000000</td>\n",
       "      <td>569.000000</td>\n",
       "      <td>569.000000</td>\n",
       "      <td>569.000000</td>\n",
       "      <td>569.000000</td>\n",
       "      <td>569.000000</td>\n",
       "      <td>569.000000</td>\n",
       "    </tr>\n",
       "    <tr>\n",
       "      <th>mean</th>\n",
       "      <td>14.127292</td>\n",
       "      <td>19.289649</td>\n",
       "      <td>91.969033</td>\n",
       "      <td>654.889104</td>\n",
       "      <td>0.096360</td>\n",
       "      <td>0.104341</td>\n",
       "      <td>0.088799</td>\n",
       "      <td>0.048919</td>\n",
       "      <td>0.181162</td>\n",
       "      <td>0.062798</td>\n",
       "      <td>...</td>\n",
       "      <td>25.677223</td>\n",
       "      <td>107.261213</td>\n",
       "      <td>880.583128</td>\n",
       "      <td>0.132369</td>\n",
       "      <td>0.254265</td>\n",
       "      <td>0.272188</td>\n",
       "      <td>0.114606</td>\n",
       "      <td>0.290076</td>\n",
       "      <td>0.083946</td>\n",
       "      <td>0.627417</td>\n",
       "    </tr>\n",
       "    <tr>\n",
       "      <th>std</th>\n",
       "      <td>3.524049</td>\n",
       "      <td>4.301036</td>\n",
       "      <td>24.298981</td>\n",
       "      <td>351.914129</td>\n",
       "      <td>0.014064</td>\n",
       "      <td>0.052813</td>\n",
       "      <td>0.079720</td>\n",
       "      <td>0.038803</td>\n",
       "      <td>0.027414</td>\n",
       "      <td>0.007060</td>\n",
       "      <td>...</td>\n",
       "      <td>6.146258</td>\n",
       "      <td>33.602542</td>\n",
       "      <td>569.356993</td>\n",
       "      <td>0.022832</td>\n",
       "      <td>0.157336</td>\n",
       "      <td>0.208624</td>\n",
       "      <td>0.065732</td>\n",
       "      <td>0.061867</td>\n",
       "      <td>0.018061</td>\n",
       "      <td>0.483918</td>\n",
       "    </tr>\n",
       "    <tr>\n",
       "      <th>min</th>\n",
       "      <td>6.981000</td>\n",
       "      <td>9.710000</td>\n",
       "      <td>43.790000</td>\n",
       "      <td>143.500000</td>\n",
       "      <td>0.052630</td>\n",
       "      <td>0.019380</td>\n",
       "      <td>0.000000</td>\n",
       "      <td>0.000000</td>\n",
       "      <td>0.106000</td>\n",
       "      <td>0.049960</td>\n",
       "      <td>...</td>\n",
       "      <td>12.020000</td>\n",
       "      <td>50.410000</td>\n",
       "      <td>185.200000</td>\n",
       "      <td>0.071170</td>\n",
       "      <td>0.027290</td>\n",
       "      <td>0.000000</td>\n",
       "      <td>0.000000</td>\n",
       "      <td>0.156500</td>\n",
       "      <td>0.055040</td>\n",
       "      <td>0.000000</td>\n",
       "    </tr>\n",
       "    <tr>\n",
       "      <th>25%</th>\n",
       "      <td>11.700000</td>\n",
       "      <td>16.170000</td>\n",
       "      <td>75.170000</td>\n",
       "      <td>420.300000</td>\n",
       "      <td>0.086370</td>\n",
       "      <td>0.064920</td>\n",
       "      <td>0.029560</td>\n",
       "      <td>0.020310</td>\n",
       "      <td>0.161900</td>\n",
       "      <td>0.057700</td>\n",
       "      <td>...</td>\n",
       "      <td>21.080000</td>\n",
       "      <td>84.110000</td>\n",
       "      <td>515.300000</td>\n",
       "      <td>0.116600</td>\n",
       "      <td>0.147200</td>\n",
       "      <td>0.114500</td>\n",
       "      <td>0.064930</td>\n",
       "      <td>0.250400</td>\n",
       "      <td>0.071460</td>\n",
       "      <td>0.000000</td>\n",
       "    </tr>\n",
       "    <tr>\n",
       "      <th>50%</th>\n",
       "      <td>13.370000</td>\n",
       "      <td>18.840000</td>\n",
       "      <td>86.240000</td>\n",
       "      <td>551.100000</td>\n",
       "      <td>0.095870</td>\n",
       "      <td>0.092630</td>\n",
       "      <td>0.061540</td>\n",
       "      <td>0.033500</td>\n",
       "      <td>0.179200</td>\n",
       "      <td>0.061540</td>\n",
       "      <td>...</td>\n",
       "      <td>25.410000</td>\n",
       "      <td>97.660000</td>\n",
       "      <td>686.500000</td>\n",
       "      <td>0.131300</td>\n",
       "      <td>0.211900</td>\n",
       "      <td>0.226700</td>\n",
       "      <td>0.099930</td>\n",
       "      <td>0.282200</td>\n",
       "      <td>0.080040</td>\n",
       "      <td>1.000000</td>\n",
       "    </tr>\n",
       "    <tr>\n",
       "      <th>75%</th>\n",
       "      <td>15.780000</td>\n",
       "      <td>21.800000</td>\n",
       "      <td>104.100000</td>\n",
       "      <td>782.700000</td>\n",
       "      <td>0.105300</td>\n",
       "      <td>0.130400</td>\n",
       "      <td>0.130700</td>\n",
       "      <td>0.074000</td>\n",
       "      <td>0.195700</td>\n",
       "      <td>0.066120</td>\n",
       "      <td>...</td>\n",
       "      <td>29.720000</td>\n",
       "      <td>125.400000</td>\n",
       "      <td>1084.000000</td>\n",
       "      <td>0.146000</td>\n",
       "      <td>0.339100</td>\n",
       "      <td>0.382900</td>\n",
       "      <td>0.161400</td>\n",
       "      <td>0.317900</td>\n",
       "      <td>0.092080</td>\n",
       "      <td>1.000000</td>\n",
       "    </tr>\n",
       "    <tr>\n",
       "      <th>max</th>\n",
       "      <td>28.110000</td>\n",
       "      <td>39.280000</td>\n",
       "      <td>188.500000</td>\n",
       "      <td>2501.000000</td>\n",
       "      <td>0.163400</td>\n",
       "      <td>0.345400</td>\n",
       "      <td>0.426800</td>\n",
       "      <td>0.201200</td>\n",
       "      <td>0.304000</td>\n",
       "      <td>0.097440</td>\n",
       "      <td>...</td>\n",
       "      <td>49.540000</td>\n",
       "      <td>251.200000</td>\n",
       "      <td>4254.000000</td>\n",
       "      <td>0.222600</td>\n",
       "      <td>1.058000</td>\n",
       "      <td>1.252000</td>\n",
       "      <td>0.291000</td>\n",
       "      <td>0.663800</td>\n",
       "      <td>0.207500</td>\n",
       "      <td>1.000000</td>\n",
       "    </tr>\n",
       "  </tbody>\n",
       "</table>\n",
       "<p>8 rows × 31 columns</p>\n",
       "</div>"
      ],
      "text/plain": [
       "       mean radius  mean texture  mean perimeter    mean area  \\\n",
       "count   569.000000    569.000000      569.000000   569.000000   \n",
       "mean     14.127292     19.289649       91.969033   654.889104   \n",
       "std       3.524049      4.301036       24.298981   351.914129   \n",
       "min       6.981000      9.710000       43.790000   143.500000   \n",
       "25%      11.700000     16.170000       75.170000   420.300000   \n",
       "50%      13.370000     18.840000       86.240000   551.100000   \n",
       "75%      15.780000     21.800000      104.100000   782.700000   \n",
       "max      28.110000     39.280000      188.500000  2501.000000   \n",
       "\n",
       "       mean smoothness  mean compactness  mean concavity  mean concave points  \\\n",
       "count       569.000000        569.000000      569.000000           569.000000   \n",
       "mean          0.096360          0.104341        0.088799             0.048919   \n",
       "std           0.014064          0.052813        0.079720             0.038803   \n",
       "min           0.052630          0.019380        0.000000             0.000000   \n",
       "25%           0.086370          0.064920        0.029560             0.020310   \n",
       "50%           0.095870          0.092630        0.061540             0.033500   \n",
       "75%           0.105300          0.130400        0.130700             0.074000   \n",
       "max           0.163400          0.345400        0.426800             0.201200   \n",
       "\n",
       "       mean symmetry  mean fractal dimension  ...  worst texture  \\\n",
       "count     569.000000              569.000000  ...     569.000000   \n",
       "mean        0.181162                0.062798  ...      25.677223   \n",
       "std         0.027414                0.007060  ...       6.146258   \n",
       "min         0.106000                0.049960  ...      12.020000   \n",
       "25%         0.161900                0.057700  ...      21.080000   \n",
       "50%         0.179200                0.061540  ...      25.410000   \n",
       "75%         0.195700                0.066120  ...      29.720000   \n",
       "max         0.304000                0.097440  ...      49.540000   \n",
       "\n",
       "       worst perimeter   worst area  worst smoothness  worst compactness  \\\n",
       "count       569.000000   569.000000        569.000000         569.000000   \n",
       "mean        107.261213   880.583128          0.132369           0.254265   \n",
       "std          33.602542   569.356993          0.022832           0.157336   \n",
       "min          50.410000   185.200000          0.071170           0.027290   \n",
       "25%          84.110000   515.300000          0.116600           0.147200   \n",
       "50%          97.660000   686.500000          0.131300           0.211900   \n",
       "75%         125.400000  1084.000000          0.146000           0.339100   \n",
       "max         251.200000  4254.000000          0.222600           1.058000   \n",
       "\n",
       "       worst concavity  worst concave points  worst symmetry  \\\n",
       "count       569.000000            569.000000      569.000000   \n",
       "mean          0.272188              0.114606        0.290076   \n",
       "std           0.208624              0.065732        0.061867   \n",
       "min           0.000000              0.000000        0.156500   \n",
       "25%           0.114500              0.064930        0.250400   \n",
       "50%           0.226700              0.099930        0.282200   \n",
       "75%           0.382900              0.161400        0.317900   \n",
       "max           1.252000              0.291000        0.663800   \n",
       "\n",
       "       worst fractal dimension       label  \n",
       "count               569.000000  569.000000  \n",
       "mean                  0.083946    0.627417  \n",
       "std                   0.018061    0.483918  \n",
       "min                   0.055040    0.000000  \n",
       "25%                   0.071460    0.000000  \n",
       "50%                   0.080040    1.000000  \n",
       "75%                   0.092080    1.000000  \n",
       "max                   0.207500    1.000000  \n",
       "\n",
       "[8 rows x 31 columns]"
      ]
     },
     "execution_count": 12,
     "metadata": {},
     "output_type": "execute_result"
    }
   ],
   "source": [
    "# 데이터프레임의 통계 정보 \n",
    "breast_cancer_df.describe()"
   ]
  },
  {
   "cell_type": "markdown",
   "metadata": {},
   "source": [
    "### [3] 분석할 타겟('label')은 몇 가지 종류인지 확인하기"
   ]
  },
  {
   "cell_type": "code",
   "execution_count": 13,
   "metadata": {},
   "outputs": [
    {
     "data": {
      "text/plain": [
       "array([0, 1])"
      ]
     },
     "execution_count": 13,
     "metadata": {},
     "output_type": "execute_result"
    }
   ],
   "source": [
    "# 품종(label) 카테고리 확인\n",
    "breast_cancer_df['label'].unique()"
   ]
  },
  {
   "cell_type": "markdown",
   "metadata": {},
   "source": [
    "### [4] 분석할 데이터에 결측치가 있는지 확인하고, 결측치가 있는 데이터는 삭제하기"
   ]
  },
  {
   "cell_type": "code",
   "execution_count": 14,
   "metadata": {},
   "outputs": [
    {
     "data": {
      "text/plain": [
       "mean radius                0\n",
       "mean texture               0\n",
       "mean perimeter             0\n",
       "mean area                  0\n",
       "mean smoothness            0\n",
       "mean compactness           0\n",
       "mean concavity             0\n",
       "mean concave points        0\n",
       "mean symmetry              0\n",
       "mean fractal dimension     0\n",
       "radius error               0\n",
       "texture error              0\n",
       "perimeter error            0\n",
       "area error                 0\n",
       "smoothness error           0\n",
       "compactness error          0\n",
       "concavity error            0\n",
       "concave points error       0\n",
       "symmetry error             0\n",
       "fractal dimension error    0\n",
       "worst radius               0\n",
       "worst texture              0\n",
       "worst perimeter            0\n",
       "worst area                 0\n",
       "worst smoothness           0\n",
       "worst compactness          0\n",
       "worst concavity            0\n",
       "worst concave points       0\n",
       "worst symmetry             0\n",
       "worst fractal dimension    0\n",
       "label                      0\n",
       "dtype: int64"
      ]
     },
     "execution_count": 14,
     "metadata": {},
     "output_type": "execute_result"
    }
   ],
   "source": [
    "# 결측치 확인\n",
    "breast_cancer_df.isna().sum()"
   ]
  },
  {
   "cell_type": "markdown",
   "metadata": {},
   "source": [
    "### [5] 분석할 데이터를 train_test_split()함수를 사용하여 학습용과 테스트용으로 나누기"
   ]
  },
  {
   "cell_type": "code",
   "execution_count": 15,
   "metadata": {},
   "outputs": [],
   "source": [
    "X = breast_cancer_df.iloc[:, :30]\n",
    "y = breast_cancer_df['label']\n",
    "\n",
    "from sklearn.model_selection import train_test_split\n",
    "# 학습용 데이터와 테스트용 데이터로 나눔\n",
    "X_train, X_test, y_train, y_test = train_test_split(X,y)"
   ]
  },
  {
   "cell_type": "code",
   "execution_count": 16,
   "metadata": {},
   "outputs": [
    {
     "data": {
      "text/plain": [
       "426"
      ]
     },
     "execution_count": 16,
     "metadata": {},
     "output_type": "execute_result"
    }
   ],
   "source": [
    "len(X_train)"
   ]
  },
  {
   "cell_type": "code",
   "execution_count": 17,
   "metadata": {},
   "outputs": [
    {
     "data": {
      "text/plain": [
       "143"
      ]
     },
     "execution_count": 17,
     "metadata": {},
     "output_type": "execute_result"
    }
   ],
   "source": [
    "len(X_test)"
   ]
  },
  {
   "cell_type": "markdown",
   "metadata": {},
   "source": [
    "## Step2. 학습/예측/평가"
   ]
  },
  {
   "cell_type": "markdown",
   "metadata": {},
   "source": [
    "### [6] 분석할 데이터를 DecisionTreeClassifier를 사용하여 학습하고, 테스트 셋을 사용하여 정확도를 확인하기"
   ]
  },
  {
   "cell_type": "code",
   "execution_count": 18,
   "metadata": {},
   "outputs": [
    {
     "name": "stdout",
     "output_type": "stream",
     "text": [
      "DecisionTreeClassifer 정확도: 0.9441\n"
     ]
    }
   ],
   "source": [
    "from sklearn.tree import DecisionTreeClassifier\n",
    "from sklearn.metrics import accuracy_score\n",
    "\n",
    "dt_model = DecisionTreeClassifier(random_state=10)\n",
    "\n",
    "# 학습 수행 \n",
    "# 학습을 해라 명령하는 것\n",
    "dt_model.fit(X_train, y_train)\n",
    "\n",
    "# 예측\n",
    "pred = dt_model.predict(X_test)\n",
    "\n",
    "#평가\n",
    "accuracy = accuracy_score(y_test , pred)\n",
    "\n",
    "print('DecisionTreeClassifer 정확도: {0:.4f}'.format(accuracy))"
   ]
  },
  {
   "cell_type": "markdown",
   "metadata": {},
   "source": [
    "### [7] 분석할 데이터를 다양한 분류기를 사용하여 학습하고, 테스트 셋을 사용하여 정확도를 확인하세요 \n",
    "* KNeighborsClassifier\n",
    "* SVM\n",
    "* RandomForestClassifier\n",
    "* LogisticRegression\n",
    "* GradientBoostingClassifier\n",
    "* XGBClassifier\n",
    "* LGBMClassifier"
   ]
  },
  {
   "cell_type": "code",
   "execution_count": 19,
   "metadata": {},
   "outputs": [
    {
     "name": "stdout",
     "output_type": "stream",
     "text": [
      "KNeighborsClassifier 정확도: 0.9091\n"
     ]
    }
   ],
   "source": [
    "from sklearn.neighbors import KNeighborsClassifier\n",
    "from sklearn.svm import SVC\n",
    "from sklearn.ensemble import RandomForestClassifier\n",
    "from sklearn.linear_model import LogisticRegression\n",
    "from sklearn.ensemble import GradientBoostingClassifier\n",
    "from xgboost import XGBClassifier\n",
    "from lightgbm import LGBMClassifier\n",
    "\n",
    "\n",
    "# 생성\n",
    "kn_model = KNeighborsClassifier()\n",
    "\n",
    "# 학습\n",
    "kn_model.fit(X_train, y_train)\n",
    "\n",
    "# 예측\n",
    "pred = kn_model.predict(X_test)\n",
    "\n",
    "# 평가\n",
    "accuracy = accuracy_score(y_test , pred)\n",
    "\n",
    "print('KNeighborsClassifier 정확도: {0:.4f}'.format(accuracy))\n"
   ]
  },
  {
   "cell_type": "code",
   "execution_count": 20,
   "metadata": {},
   "outputs": [
    {
     "name": "stdout",
     "output_type": "stream",
     "text": [
      "svc 정확도: 0.9091\n"
     ]
    }
   ],
   "source": [
    "svc_model = SVC()\n",
    "\n",
    "# 학습\n",
    "svc_model.fit(X_train, y_train)\n",
    "\n",
    "# 예측\n",
    "pred = svc_model.predict(X_test)\n",
    "\n",
    "# 평가\n",
    "accuracy = accuracy_score(y_test , pred)\n",
    "\n",
    "print('svc 정확도: {0:.4f}'.format(accuracy))"
   ]
  },
  {
   "cell_type": "code",
   "execution_count": 21,
   "metadata": {},
   "outputs": [
    {
     "name": "stdout",
     "output_type": "stream",
     "text": [
      "RandomForestClassifier 정확도: 0.9720\n"
     ]
    }
   ],
   "source": [
    "rf_model = RandomForestClassifier()\n",
    "\n",
    "# 학습\n",
    "rf_model.fit(X_train, y_train)\n",
    "\n",
    "# 예측\n",
    "pred = rf_model.predict(X_test)\n",
    "\n",
    "# 평가\n",
    "accuracy = accuracy_score(y_test , pred)\n",
    "\n",
    "print('RandomForestClassifier 정확도: {0:.4f}'.format(accuracy))"
   ]
  },
  {
   "cell_type": "code",
   "execution_count": 22,
   "metadata": {},
   "outputs": [
    {
     "name": "stdout",
     "output_type": "stream",
     "text": [
      "LogisticRegression 정확도: 0.9441\n"
     ]
    }
   ],
   "source": [
    "lg_model = LogisticRegression()\n",
    "\n",
    "# 학습\n",
    "lg_model.fit(X_train, y_train)\n",
    "\n",
    "# 예측\n",
    "pred = lg_model.predict(X_test)\n",
    "\n",
    "# 평가\n",
    "accuracy = accuracy_score(y_test , pred)\n",
    "\n",
    "print('LogisticRegression 정확도: {0:.4f}'.format(accuracy))"
   ]
  },
  {
   "cell_type": "code",
   "execution_count": 23,
   "metadata": {},
   "outputs": [
    {
     "name": "stdout",
     "output_type": "stream",
     "text": [
      "GradientBoostingClassifier 정확도: 0.9650\n"
     ]
    }
   ],
   "source": [
    "gbc_model = GradientBoostingClassifier()\n",
    "\n",
    "# 학습\n",
    "gbc_model.fit(X_train, y_train)\n",
    "\n",
    "# 예측\n",
    "pred = gbc_model.predict(X_test)\n",
    "\n",
    "# 평가\n",
    "accuracy = accuracy_score(y_test , pred)\n",
    "\n",
    "print('GradientBoostingClassifier 정확도: {0:.4f}'.format(accuracy))"
   ]
  },
  {
   "cell_type": "code",
   "execution_count": 24,
   "metadata": {},
   "outputs": [
    {
     "name": "stdout",
     "output_type": "stream",
     "text": [
      "[14:03:21] WARNING: C:/Users/Administrator/workspace/xgboost-win64_release_1.5.0/src/learner.cc:1115: Starting in XGBoost 1.3.0, the default evaluation metric used with the objective 'binary:logistic' was changed from 'error' to 'logloss'. Explicitly set eval_metric if you'd like to restore the old behavior.\n",
      "XGBClassifier 정확도: 0.9580\n"
     ]
    }
   ],
   "source": [
    "xgbc_model = XGBClassifier()\n",
    "\n",
    "# 학습\n",
    "xgbc_model.fit(X_train, y_train)\n",
    "\n",
    "# 예측\n",
    "pred = xgbc_model.predict(X_test)\n",
    "\n",
    "# 평가\n",
    "accuracy = accuracy_score(y_test , pred)\n",
    "\n",
    "print('XGBClassifier 정확도: {0:.4f}'.format(accuracy))"
   ]
  },
  {
   "cell_type": "code",
   "execution_count": 25,
   "metadata": {},
   "outputs": [
    {
     "name": "stdout",
     "output_type": "stream",
     "text": [
      "LGBMClassifier 정확도: 0.9720\n"
     ]
    }
   ],
   "source": [
    "lgbmc_model = LGBMClassifier()\n",
    "\n",
    "# 학습\n",
    "lgbmc_model.fit(X_train, y_train)\n",
    "\n",
    "# 예측\n",
    "pred = lgbmc_model.predict(X_test)\n",
    "\n",
    "# 평가\n",
    "accuracy = accuracy_score(y_test , pred)\n",
    "\n",
    "print('LGBMClassifier 정확도: {0:.4f}'.format(accuracy))"
   ]
  },
  {
   "cell_type": "markdown",
   "metadata": {},
   "source": [
    "# 위에 과정을 for 문 돌려서 한번에!"
   ]
  },
  {
   "cell_type": "code",
   "execution_count": 26,
   "metadata": {},
   "outputs": [
    {
     "name": "stdout",
     "output_type": "stream",
     "text": [
      "KNeighborsClassifier 정확도: 0.9090909090909091\n",
      "\n",
      "SVC 정확도: 0.9090909090909091\n",
      "\n",
      "RandomForestClassifier 정확도: 0.958041958041958\n",
      "\n",
      "LogisticRegression 정확도: 0.9440559440559441\n",
      "\n",
      "GradientBoostingClassifier 정확도: 0.958041958041958\n",
      "\n",
      "[14:03:22] WARNING: C:/Users/Administrator/workspace/xgboost-win64_release_1.5.0/src/learner.cc:1115: Starting in XGBoost 1.3.0, the default evaluation metric used with the objective 'binary:logistic' was changed from 'error' to 'logloss'. Explicitly set eval_metric if you'd like to restore the old behavior.\n",
      "XGBClassifier 정확도: 0.958041958041958\n",
      "\n",
      "LGBMClassifier 정확도: 0.972027972027972\n",
      "\n"
     ]
    }
   ],
   "source": [
    "model_list = [kn_model, svc_model, rf_model, lg_model, gbc_model, xgbc_model, lgbmc_model]\n",
    "\n",
    "for model in model_list:\n",
    "    # 학습\n",
    "    model.fit(X_train , y_train)\n",
    "    \n",
    "    # 예측\n",
    "    pred = model.predict(X_test)\n",
    "    \n",
    "    # 평가\n",
    "    accuracy = accuracy_score(y_test, pred)\n",
    "    \n",
    "    model_name = model.__class__.__name__\n",
    "    print('{0} 정확도: {1}\\n'.format(model_name, accuracy)) \n",
    "    "
   ]
  },
  {
   "cell_type": "markdown",
   "metadata": {},
   "source": [
    "### xgboost의 feature 중요도를 시각화 하기"
   ]
  },
  {
   "cell_type": "code",
   "execution_count": 27,
   "metadata": {},
   "outputs": [
    {
     "data": {
      "text/plain": [
       "<AxesSubplot:title={'center':'Feature importance'}, xlabel='F score', ylabel='Features'>"
      ]
     },
     "execution_count": 27,
     "metadata": {},
     "output_type": "execute_result"
    },
    {
     "data": {
      "image/png": "[encoded data removed]",
      "text/plain": [
       "<Figure size 720x864 with 1 Axes>"
      ]
     },
     "metadata": {
      "needs_background": "light"
     },
     "output_type": "display_data"
    }
   ],
   "source": [
    "from xgboost import plot_importance\n",
    "import matplotlib.pyplot as plt\n",
    "%matplotlib inline\n",
    "\n",
    "fig, ax = plt.subplots(figsize=(10, 12))\n",
    "# 사이킷런 래퍼 클래스를 입력해도 무방. \n",
    "plot_importance(xgbc_model, ax=ax)"
   ]
  },
  {
   "cell_type": "markdown",
   "metadata": {},
   "source": [
    "### lightgbm의 feature 중요도 시각화 하기"
   ]
  },
  {
   "cell_type": "code",
   "execution_count": 28,
   "metadata": {},
   "outputs": [
    {
     "data": {
      "text/plain": [
       "<AxesSubplot:title={'center':'Feature importance'}, xlabel='Feature importance', ylabel='Features'>"
      ]
     },
     "execution_count": 28,
     "metadata": {},
     "output_type": "execute_result"
    },
    {
     "data": {
      "image/png": "[encoded data removed]",
      "text/plain": [
       "<Figure size 720x864 with 1 Axes>"
      ]
     },
     "metadata": {
      "needs_background": "light"
     },
     "output_type": "display_data"
    }
   ],
   "source": [
    "# plot_importance( )를 이용하여 feature 중요도 시각화\n",
    "from lightgbm import plot_importance\n",
    "import matplotlib.pyplot as plt\n",
    "%matplotlib inline\n",
    "\n",
    "fig, ax = plt.subplots(figsize=(10, 12))\n",
    "plot_importance(lgbmc_model, ax=ax)"
   ]
  },
  {
   "cell_type": "markdown",
   "metadata": {},
   "source": [
    "### 각 모델의  혼동행렬, 정확도, 정밀도, 재현율, F1 score, AUC를 구하기"
   ]
  },
  {
   "cell_type": "code",
   "execution_count": 29,
   "metadata": {},
   "outputs": [],
   "source": [
    "from sklearn.metrics import confusion_matrix, accuracy_score\n",
    "from sklearn.metrics import precision_score, recall_score\n",
    "from sklearn.metrics import f1_score, roc_auc_score\n",
    "\n",
    "\n",
    "# 이거 함수 복사해서 분류기 만들때 쓰자\n",
    "def get_clf_eval(y_test, pred=None):\n",
    "    confusion = confusion_matrix( y_test, pred)\n",
    "    accuracy = accuracy_score(y_test , pred)\n",
    "    precision = precision_score(y_test , pred)\n",
    "    recall = recall_score(y_test , pred)\n",
    "    f1 = f1_score(y_test,pred)\n",
    "    print('혼동행렬')\n",
    "    print(confusion)\n",
    "    # ROC-AUC print 추가\n",
    "    print('정확도: {0:.4f}, 정밀도: {1:.4f}, 재현율: {2:.4f}, F1: {3:.4f}'.format(accuracy, precision, recall, f1))"
   ]
  },
  {
   "cell_type": "code",
   "execution_count": 30,
   "metadata": {},
   "outputs": [
    {
     "name": "stdout",
     "output_type": "stream",
     "text": [
      "\n",
      "KNeighborsClassifier 정확도:\n",
      "혼동행렬\n",
      "[[48  7]\n",
      " [ 6 82]]\n",
      "정확도: 0.9091, 정밀도: 0.9213, 재현율: 0.9318, F1: 0.9266\n",
      "\n",
      "SVC 정확도:\n",
      "혼동행렬\n",
      "[[45 10]\n",
      " [ 3 85]]\n",
      "정확도: 0.9091, 정밀도: 0.8947, 재현율: 0.9659, F1: 0.9290\n",
      "\n",
      "RandomForestClassifier 정확도:\n",
      "혼동행렬\n",
      "[[53  2]\n",
      " [ 4 84]]\n",
      "정확도: 0.9580, 정밀도: 0.9767, 재현율: 0.9545, F1: 0.9655\n",
      "\n",
      "LogisticRegression 정확도:\n",
      "혼동행렬\n",
      "[[50  5]\n",
      " [ 3 85]]\n",
      "정확도: 0.9441, 정밀도: 0.9444, 재현율: 0.9659, F1: 0.9551\n",
      "\n",
      "GradientBoostingClassifier 정확도:\n",
      "혼동행렬\n",
      "[[53  2]\n",
      " [ 3 85]]\n",
      "정확도: 0.9650, 정밀도: 0.9770, 재현율: 0.9659, F1: 0.9714\n",
      "[14:03:24] WARNING: C:/Users/Administrator/workspace/xgboost-win64_release_1.5.0/src/learner.cc:1115: Starting in XGBoost 1.3.0, the default evaluation metric used with the objective 'binary:logistic' was changed from 'error' to 'logloss'. Explicitly set eval_metric if you'd like to restore the old behavior.\n",
      "\n",
      "XGBClassifier 정확도:\n",
      "혼동행렬\n",
      "[[53  2]\n",
      " [ 4 84]]\n",
      "정확도: 0.9580, 정밀도: 0.9767, 재현율: 0.9545, F1: 0.9655\n",
      "\n",
      "LGBMClassifier 정확도:\n",
      "혼동행렬\n",
      "[[53  2]\n",
      " [ 2 86]]\n",
      "정확도: 0.9720, 정밀도: 0.9773, 재현율: 0.9773, F1: 0.9773\n"
     ]
    }
   ],
   "source": [
    "# 아까 내가 만든 변수들이랑 이름을 맞춰주어야 실행된다\n",
    "model_list = [kn_model, svc_model, rf_model, lg_model, gbc_model, xgbc_model, lgbmc_model]\n",
    "\n",
    "for model in model_list:\n",
    "    model.fit(X_train , y_train)\n",
    "    pred = model.predict(X_test)\n",
    "    accuracy = accuracy_score(y_test, pred)\n",
    "    model_name = model.__class__.__name__\n",
    "    print('\\n{0} 정확도:'.format(model_name)) \n",
    "    get_clf_eval(y_test, pred)"
   ]
  },
  {
   "cell_type": "markdown",
   "metadata": {},
   "source": [
    "## Step3. 성능 개선"
   ]
  },
  {
   "cell_type": "markdown",
   "metadata": {},
   "source": [
    "### [8] 학습 조기 종료 방법을 사용하여 XGBClassifier의 성능을 개선하기\n",
    " * fit함수의 early_stopping_rounds 파라미터를 셋팅\n",
    " * fit함수의 verbose=True로 설정하여 학습 상태를 확인하기"
   ]
  },
  {
   "cell_type": "code",
   "execution_count": 31,
   "metadata": {},
   "outputs": [
    {
     "name": "stdout",
     "output_type": "stream",
     "text": [
      "[0]\tvalidation_0-logloss:0.61646\n",
      "[1]\tvalidation_0-logloss:0.55390\n",
      "[2]\tvalidation_0-logloss:0.50185\n",
      "[3]\tvalidation_0-logloss:0.45883\n",
      "[4]\tvalidation_0-logloss:0.42236\n",
      "[5]\tvalidation_0-logloss:0.38809\n",
      "[6]\tvalidation_0-logloss:0.36102\n",
      "[7]\tvalidation_0-logloss:0.33611\n",
      "[8]\tvalidation_0-logloss:0.31376\n",
      "[9]\tvalidation_0-logloss:0.29621\n",
      "[10]\tvalidation_0-logloss:0.27996\n",
      "[11]\tvalidation_0-logloss:0.26680\n",
      "[12]\tvalidation_0-logloss:0.25209\n",
      "[13]\tvalidation_0-logloss:0.24269\n",
      "[14]\tvalidation_0-logloss:0.23115\n",
      "[15]\tvalidation_0-logloss:0.22205\n",
      "[16]\tvalidation_0-logloss:0.21407\n",
      "[17]\tvalidation_0-logloss:0.20788\n",
      "[18]\tvalidation_0-logloss:0.19860\n",
      "[19]\tvalidation_0-logloss:0.19183\n",
      "[20]\tvalidation_0-logloss:0.18432\n",
      "[21]\tvalidation_0-logloss:0.17953\n",
      "[22]\tvalidation_0-logloss:0.17405\n",
      "[23]\tvalidation_0-logloss:0.16917\n",
      "[24]\tvalidation_0-logloss:0.16618\n",
      "[25]\tvalidation_0-logloss:0.16471\n",
      "[26]\tvalidation_0-logloss:0.16043\n",
      "[27]\tvalidation_0-logloss:0.15761\n",
      "[28]\tvalidation_0-logloss:0.15462\n",
      "[29]\tvalidation_0-logloss:0.15160\n",
      "[30]\tvalidation_0-logloss:0.14809\n",
      "[31]\tvalidation_0-logloss:0.14607\n",
      "[32]\tvalidation_0-logloss:0.14224\n",
      "[33]\tvalidation_0-logloss:0.13923\n",
      "[34]\tvalidation_0-logloss:0.13650\n",
      "[35]\tvalidation_0-logloss:0.13302\n",
      "[36]\tvalidation_0-logloss:0.13094\n",
      "[37]\tvalidation_0-logloss:0.12789\n",
      "[38]\tvalidation_0-logloss:0.12620\n",
      "[39]\tvalidation_0-logloss:0.12424\n",
      "[40]\tvalidation_0-logloss:0.12227\n",
      "[41]\tvalidation_0-logloss:0.12195\n",
      "[42]\tvalidation_0-logloss:0.12046\n",
      "[43]\tvalidation_0-logloss:0.11969\n",
      "[44]\tvalidation_0-logloss:0.11822\n",
      "[45]\tvalidation_0-logloss:0.11747\n",
      "[46]\tvalidation_0-logloss:0.11736\n",
      "[47]\tvalidation_0-logloss:0.11550\n",
      "[48]\tvalidation_0-logloss:0.11504\n",
      "[49]\tvalidation_0-logloss:0.11339\n",
      "[50]\tvalidation_0-logloss:0.11282\n",
      "[51]\tvalidation_0-logloss:0.11093\n",
      "[52]\tvalidation_0-logloss:0.11068\n",
      "[53]\tvalidation_0-logloss:0.10915\n",
      "[54]\tvalidation_0-logloss:0.10804\n",
      "[55]\tvalidation_0-logloss:0.10777\n",
      "[56]\tvalidation_0-logloss:0.10664\n",
      "[57]\tvalidation_0-logloss:0.10498\n",
      "[58]\tvalidation_0-logloss:0.10499\n",
      "[59]\tvalidation_0-logloss:0.10381\n",
      "[60]\tvalidation_0-logloss:0.10314\n",
      "[61]\tvalidation_0-logloss:0.10287\n",
      "[62]\tvalidation_0-logloss:0.10189\n",
      "[63]\tvalidation_0-logloss:0.10068\n",
      "[64]\tvalidation_0-logloss:0.10065\n",
      "[65]\tvalidation_0-logloss:0.09989\n",
      "[66]\tvalidation_0-logloss:0.09945\n",
      "[67]\tvalidation_0-logloss:0.09900\n",
      "[68]\tvalidation_0-logloss:0.09871\n",
      "[69]\tvalidation_0-logloss:0.09848\n",
      "[70]\tvalidation_0-logloss:0.09760\n",
      "[71]\tvalidation_0-logloss:0.09738\n",
      "[72]\tvalidation_0-logloss:0.09753\n",
      "[73]\tvalidation_0-logloss:0.09728\n",
      "[74]\tvalidation_0-logloss:0.09712\n",
      "[75]\tvalidation_0-logloss:0.09650\n",
      "[76]\tvalidation_0-logloss:0.09551\n",
      "[77]\tvalidation_0-logloss:0.09510\n",
      "[78]\tvalidation_0-logloss:0.09501\n",
      "[79]\tvalidation_0-logloss:0.09488\n",
      "[80]\tvalidation_0-logloss:0.09470\n",
      "[81]\tvalidation_0-logloss:0.09489\n",
      "[82]\tvalidation_0-logloss:0.09482\n",
      "[83]\tvalidation_0-logloss:0.09466\n",
      "[84]\tvalidation_0-logloss:0.09450\n",
      "[85]\tvalidation_0-logloss:0.09471\n",
      "[86]\tvalidation_0-logloss:0.09509\n",
      "[87]\tvalidation_0-logloss:0.09491\n",
      "[88]\tvalidation_0-logloss:0.09492\n",
      "[89]\tvalidation_0-logloss:0.09518\n",
      "[90]\tvalidation_0-logloss:0.09516\n",
      "[91]\tvalidation_0-logloss:0.09545\n",
      "[92]\tvalidation_0-logloss:0.09532\n",
      "[93]\tvalidation_0-logloss:0.09503\n",
      "[94]\tvalidation_0-logloss:0.09514\n",
      "[95]\tvalidation_0-logloss:0.09499\n",
      "[96]\tvalidation_0-logloss:0.09483\n",
      "[97]\tvalidation_0-logloss:0.09446\n",
      "[98]\tvalidation_0-logloss:0.09434\n",
      "[99]\tvalidation_0-logloss:0.09419\n",
      "[100]\tvalidation_0-logloss:0.09479\n",
      "[101]\tvalidation_0-logloss:0.09420\n",
      "[102]\tvalidation_0-logloss:0.09399\n",
      "[103]\tvalidation_0-logloss:0.09387\n",
      "[104]\tvalidation_0-logloss:0.09395\n",
      "[105]\tvalidation_0-logloss:0.09455\n",
      "[106]\tvalidation_0-logloss:0.09429\n",
      "[107]\tvalidation_0-logloss:0.09391\n",
      "[108]\tvalidation_0-logloss:0.09381\n",
      "[109]\tvalidation_0-logloss:0.09397\n",
      "[110]\tvalidation_0-logloss:0.09364\n",
      "[111]\tvalidation_0-logloss:0.09357\n",
      "[112]\tvalidation_0-logloss:0.09302\n",
      "[113]\tvalidation_0-logloss:0.09284\n",
      "[114]\tvalidation_0-logloss:0.09276\n",
      "[115]\tvalidation_0-logloss:0.09291\n",
      "[116]\tvalidation_0-logloss:0.09293\n",
      "[117]\tvalidation_0-logloss:0.09306\n",
      "[118]\tvalidation_0-logloss:0.09257\n",
      "[119]\tvalidation_0-logloss:0.09252\n",
      "[120]\tvalidation_0-logloss:0.09267\n",
      "[121]\tvalidation_0-logloss:0.09245\n",
      "[122]\tvalidation_0-logloss:0.09226\n",
      "[123]\tvalidation_0-logloss:0.09229\n",
      "[124]\tvalidation_0-logloss:0.09181\n",
      "[125]\tvalidation_0-logloss:0.09187\n",
      "[126]\tvalidation_0-logloss:0.09235\n",
      "[127]\tvalidation_0-logloss:0.09218\n",
      "[128]\tvalidation_0-logloss:0.09212\n",
      "[129]\tvalidation_0-logloss:0.09215\n",
      "[130]\tvalidation_0-logloss:0.09218\n",
      "[131]\tvalidation_0-logloss:0.09227\n",
      "[132]\tvalidation_0-logloss:0.09246\n",
      "[133]\tvalidation_0-logloss:0.09249\n",
      "[134]\tvalidation_0-logloss:0.09273\n",
      "[135]\tvalidation_0-logloss:0.09253\n",
      "[136]\tvalidation_0-logloss:0.09236\n",
      "[137]\tvalidation_0-logloss:0.09210\n",
      "[138]\tvalidation_0-logloss:0.09202\n",
      "[139]\tvalidation_0-logloss:0.09187\n",
      "[140]\tvalidation_0-logloss:0.09163\n",
      "[141]\tvalidation_0-logloss:0.09171\n",
      "[142]\tvalidation_0-logloss:0.09179\n",
      "[143]\tvalidation_0-logloss:0.09172\n",
      "[144]\tvalidation_0-logloss:0.09142\n",
      "[145]\tvalidation_0-logloss:0.09143\n",
      "[146]\tvalidation_0-logloss:0.09148\n",
      "[147]\tvalidation_0-logloss:0.09185\n",
      "[148]\tvalidation_0-logloss:0.09171\n",
      "[149]\tvalidation_0-logloss:0.09146\n",
      "[150]\tvalidation_0-logloss:0.09146\n",
      "[151]\tvalidation_0-logloss:0.09182\n",
      "[152]\tvalidation_0-logloss:0.09168\n",
      "[153]\tvalidation_0-logloss:0.09182\n",
      "[154]\tvalidation_0-logloss:0.09175\n",
      "[155]\tvalidation_0-logloss:0.09177\n",
      "[156]\tvalidation_0-logloss:0.09181\n",
      "[157]\tvalidation_0-logloss:0.09194\n",
      "[158]\tvalidation_0-logloss:0.09181\n",
      "[159]\tvalidation_0-logloss:0.09193\n",
      "[160]\tvalidation_0-logloss:0.09196\n",
      "[161]\tvalidation_0-logloss:0.09209\n",
      "[162]\tvalidation_0-logloss:0.09202\n",
      "[163]\tvalidation_0-logloss:0.09219\n",
      "[164]\tvalidation_0-logloss:0.09206\n",
      "[165]\tvalidation_0-logloss:0.09219\n",
      "[166]\tvalidation_0-logloss:0.09224\n",
      "[167]\tvalidation_0-logloss:0.09218\n",
      "[168]\tvalidation_0-logloss:0.09251\n",
      "[169]\tvalidation_0-logloss:0.09254\n",
      "[170]\tvalidation_0-logloss:0.09258\n",
      "[171]\tvalidation_0-logloss:0.09270\n",
      "[172]\tvalidation_0-logloss:0.09258\n",
      "[173]\tvalidation_0-logloss:0.09270\n",
      "[174]\tvalidation_0-logloss:0.09282\n",
      "[175]\tvalidation_0-logloss:0.09270\n",
      "[176]\tvalidation_0-logloss:0.09273\n",
      "[177]\tvalidation_0-logloss:0.09267\n",
      "[178]\tvalidation_0-logloss:0.09280\n",
      "[179]\tvalidation_0-logloss:0.09291\n",
      "[180]\tvalidation_0-logloss:0.09279\n",
      "[181]\tvalidation_0-logloss:0.09282\n",
      "[182]\tvalidation_0-logloss:0.09287\n",
      "[183]\tvalidation_0-logloss:0.09299\n",
      "[184]\tvalidation_0-logloss:0.09314\n",
      "[185]\tvalidation_0-logloss:0.09295\n",
      "[186]\tvalidation_0-logloss:0.09289\n",
      "[187]\tvalidation_0-logloss:0.09278\n",
      "[188]\tvalidation_0-logloss:0.09290\n",
      "[189]\tvalidation_0-logloss:0.09302\n",
      "[190]\tvalidation_0-logloss:0.09305\n",
      "[191]\tvalidation_0-logloss:0.09309\n",
      "[192]\tvalidation_0-logloss:0.09295\n",
      "[193]\tvalidation_0-logloss:0.09289\n",
      "[194]\tvalidation_0-logloss:0.09293\n",
      "[195]\tvalidation_0-logloss:0.09305\n",
      "[196]\tvalidation_0-logloss:0.09294\n",
      "[197]\tvalidation_0-logloss:0.09305\n",
      "[198]\tvalidation_0-logloss:0.09312\n",
      "[199]\tvalidation_0-logloss:0.09317\n",
      "[200]\tvalidation_0-logloss:0.09332\n",
      "[201]\tvalidation_0-logloss:0.09313\n",
      "[202]\tvalidation_0-logloss:0.09299\n",
      "[203]\tvalidation_0-logloss:0.09290\n",
      "[204]\tvalidation_0-logloss:0.09271\n",
      "[205]\tvalidation_0-logloss:0.09283\n",
      "[206]\tvalidation_0-logloss:0.09277\n",
      "[207]\tvalidation_0-logloss:0.09272\n",
      "[208]\tvalidation_0-logloss:0.09258\n",
      "[209]\tvalidation_0-logloss:0.09270\n",
      "[210]\tvalidation_0-logloss:0.09252\n",
      "[211]\tvalidation_0-logloss:0.09282\n",
      "[212]\tvalidation_0-logloss:0.09265\n",
      "[213]\tvalidation_0-logloss:0.09277\n",
      "[214]\tvalidation_0-logloss:0.09267\n",
      "[215]\tvalidation_0-logloss:0.09258\n",
      "[216]\tvalidation_0-logloss:0.09255\n",
      "[217]\tvalidation_0-logloss:0.09250\n",
      "[218]\tvalidation_0-logloss:0.09264\n",
      "[219]\tvalidation_0-logloss:0.09247\n",
      "[220]\tvalidation_0-logloss:0.09234\n",
      "[221]\tvalidation_0-logloss:0.09218\n",
      "[222]\tvalidation_0-logloss:0.09209\n",
      "[223]\tvalidation_0-logloss:0.09238\n",
      "[224]\tvalidation_0-logloss:0.09249\n",
      "[225]\tvalidation_0-logloss:0.09232\n",
      "[226]\tvalidation_0-logloss:0.09243\n",
      "[227]\tvalidation_0-logloss:0.09225\n",
      "[228]\tvalidation_0-logloss:0.09215\n",
      "[229]\tvalidation_0-logloss:0.09227\n",
      "[230]\tvalidation_0-logloss:0.09218\n",
      "[231]\tvalidation_0-logloss:0.09215\n",
      "[232]\tvalidation_0-logloss:0.09220\n",
      "[233]\tvalidation_0-logloss:0.09234\n",
      "[234]\tvalidation_0-logloss:0.09237\n",
      "[235]\tvalidation_0-logloss:0.09220\n",
      "[236]\tvalidation_0-logloss:0.09231\n",
      "[237]\tvalidation_0-logloss:0.09228\n"
     ]
    },
    {
     "name": "stdout",
     "output_type": "stream",
     "text": [
      "[238]\tvalidation_0-logloss:0.09219\n",
      "[239]\tvalidation_0-logloss:0.09202\n",
      "[240]\tvalidation_0-logloss:0.09230\n",
      "[241]\tvalidation_0-logloss:0.09220\n",
      "[242]\tvalidation_0-logloss:0.09232\n",
      "[243]\tvalidation_0-logloss:0.09226\n",
      "[244]\tvalidation_0-logloss:0.09223\n",
      "XGBoost EarlyStopping 정확도: 0.9720\n"
     ]
    }
   ],
   "source": [
    "from xgboost import XGBClassifier\n",
    "\n",
    "xgb_model2 = XGBClassifier(n_estimators=400, learning_rate=0.1, max_depth=3)\n",
    "evals = [(X_test, y_test)]   # 테스트 셋을 평가할 때 쓰려고 할당해줌\n",
    "xgb_model2.fit(X_train, y_train, early_stopping_rounds=100, eval_metric=\"logloss\", eval_set=evals, verbose=True)\n",
    "# early_stopping_rounds: 과적합 생길때, 100번정도 해보고 성능이 개선되지 않으면 중지해라 *중요\n",
    "# eval_set: 평가 셋을 같이 지정해주어야 함 *중요\n",
    "# verbose = True: 내가 학습하는 동안 어떤일이 있는지 다 로그로 남겨줘!\n",
    "# eval_metric = 'logloss'  로그로스로 매트릭을 해준다 정도만 알자\n",
    "\n",
    "xgb_pred = xgb_model2.predict(X_test)             # X_test 가지고 비교해보겠다\n",
    "xgb_accuracy = accuracy_score(y_test, xgb_pred)   # y와 y^ 비교\n",
    "print('XGBoost EarlyStopping 정확도: {0:.4f}'.format(xgb_accuracy))\n"
   ]
  },
  {
   "cell_type": "markdown",
   "metadata": {},
   "source": [
    "### [9] 학습 조기 종료 방법을 사용하여 LGBMClassifier 성능을 개선하기\n",
    " * fit함수의 early_stopping_rounds 파라미터를 셋팅\n",
    " * fit함수의 verbose=True로 설정하여 학습 상태를 확인하기"
   ]
  },
  {
   "cell_type": "code",
   "execution_count": 32,
   "metadata": {},
   "outputs": [
    {
     "name": "stdout",
     "output_type": "stream",
     "text": [
      "[1]\tvalid_0's binary_logloss: 0.595129\n",
      "[2]\tvalid_0's binary_logloss: 0.531564\n",
      "[3]\tvalid_0's binary_logloss: 0.482184\n",
      "[4]\tvalid_0's binary_logloss: 0.444283\n",
      "[5]\tvalid_0's binary_logloss: 0.408339\n",
      "[6]\tvalid_0's binary_logloss: 0.378523\n",
      "[7]\tvalid_0's binary_logloss: 0.353135\n",
      "[8]\tvalid_0's binary_logloss: 0.329307\n",
      "[9]\tvalid_0's binary_logloss: 0.310469\n",
      "[10]\tvalid_0's binary_logloss: 0.290458\n",
      "[11]\tvalid_0's binary_logloss: 0.272264\n",
      "[12]\tvalid_0's binary_logloss: 0.259892\n",
      "[13]\tvalid_0's binary_logloss: 0.244505\n",
      "[14]\tvalid_0's binary_logloss: 0.235693\n",
      "[15]\tvalid_0's binary_logloss: 0.227569\n",
      "[16]\tvalid_0's binary_logloss: 0.217434\n",
      "[17]\tvalid_0's binary_logloss: 0.208375\n",
      "[18]\tvalid_0's binary_logloss: 0.202398\n",
      "[19]\tvalid_0's binary_logloss: 0.195126\n",
      "[20]\tvalid_0's binary_logloss: 0.188387\n",
      "[21]\tvalid_0's binary_logloss: 0.184888\n",
      "[22]\tvalid_0's binary_logloss: 0.179099\n",
      "[23]\tvalid_0's binary_logloss: 0.1743\n",
      "[24]\tvalid_0's binary_logloss: 0.165787\n",
      "[25]\tvalid_0's binary_logloss: 0.161335\n",
      "[26]\tvalid_0's binary_logloss: 0.155897\n",
      "[27]\tvalid_0's binary_logloss: 0.151337\n",
      "[28]\tvalid_0's binary_logloss: 0.146202\n",
      "[29]\tvalid_0's binary_logloss: 0.141772\n",
      "[30]\tvalid_0's binary_logloss: 0.138068\n",
      "[31]\tvalid_0's binary_logloss: 0.137141\n",
      "[32]\tvalid_0's binary_logloss: 0.135717\n",
      "[33]\tvalid_0's binary_logloss: 0.133169\n",
      "[34]\tvalid_0's binary_logloss: 0.128435\n",
      "[35]\tvalid_0's binary_logloss: 0.125176\n",
      "[36]\tvalid_0's binary_logloss: 0.121943\n",
      "[37]\tvalid_0's binary_logloss: 0.120057\n",
      "[38]\tvalid_0's binary_logloss: 0.119638\n",
      "[39]\tvalid_0's binary_logloss: 0.116912\n",
      "[40]\tvalid_0's binary_logloss: 0.114998\n",
      "[41]\tvalid_0's binary_logloss: 0.115709\n",
      "[42]\tvalid_0's binary_logloss: 0.114633\n",
      "[43]\tvalid_0's binary_logloss: 0.11294\n",
      "[44]\tvalid_0's binary_logloss: 0.110886\n",
      "[45]\tvalid_0's binary_logloss: 0.111235\n",
      "[46]\tvalid_0's binary_logloss: 0.110469\n",
      "[47]\tvalid_0's binary_logloss: 0.108127\n",
      "[48]\tvalid_0's binary_logloss: 0.108405\n",
      "[49]\tvalid_0's binary_logloss: 0.107263\n",
      "[50]\tvalid_0's binary_logloss: 0.10756\n",
      "[51]\tvalid_0's binary_logloss: 0.106267\n",
      "[52]\tvalid_0's binary_logloss: 0.104687\n",
      "[53]\tvalid_0's binary_logloss: 0.105283\n",
      "[54]\tvalid_0's binary_logloss: 0.104646\n",
      "[55]\tvalid_0's binary_logloss: 0.103955\n",
      "[56]\tvalid_0's binary_logloss: 0.104247\n",
      "[57]\tvalid_0's binary_logloss: 0.10557\n",
      "[58]\tvalid_0's binary_logloss: 0.104954\n",
      "[59]\tvalid_0's binary_logloss: 0.103523\n",
      "[60]\tvalid_0's binary_logloss: 0.10184\n",
      "[61]\tvalid_0's binary_logloss: 0.101004\n",
      "[62]\tvalid_0's binary_logloss: 0.100194\n",
      "[63]\tvalid_0's binary_logloss: 0.0996231\n",
      "[64]\tvalid_0's binary_logloss: 0.0994801\n",
      "[65]\tvalid_0's binary_logloss: 0.0993297\n",
      "[66]\tvalid_0's binary_logloss: 0.0981205\n",
      "[67]\tvalid_0's binary_logloss: 0.0991532\n",
      "[68]\tvalid_0's binary_logloss: 0.0983325\n",
      "[69]\tvalid_0's binary_logloss: 0.0983551\n",
      "[70]\tvalid_0's binary_logloss: 0.0977445\n",
      "[71]\tvalid_0's binary_logloss: 0.098513\n",
      "[72]\tvalid_0's binary_logloss: 0.0988515\n",
      "[73]\tvalid_0's binary_logloss: 0.0976225\n",
      "[74]\tvalid_0's binary_logloss: 0.0978918\n",
      "[75]\tvalid_0's binary_logloss: 0.0972253\n",
      "[76]\tvalid_0's binary_logloss: 0.0968874\n",
      "[77]\tvalid_0's binary_logloss: 0.0961772\n",
      "[78]\tvalid_0's binary_logloss: 0.0961089\n",
      "[79]\tvalid_0's binary_logloss: 0.0963419\n",
      "[80]\tvalid_0's binary_logloss: 0.0974263\n",
      "[81]\tvalid_0's binary_logloss: 0.0963815\n",
      "[82]\tvalid_0's binary_logloss: 0.0957441\n",
      "[83]\tvalid_0's binary_logloss: 0.0950122\n",
      "[84]\tvalid_0's binary_logloss: 0.09515\n",
      "[85]\tvalid_0's binary_logloss: 0.0946168\n",
      "[86]\tvalid_0's binary_logloss: 0.0958922\n",
      "[87]\tvalid_0's binary_logloss: 0.0964186\n",
      "[88]\tvalid_0's binary_logloss: 0.0976516\n",
      "[89]\tvalid_0's binary_logloss: 0.0968959\n",
      "[90]\tvalid_0's binary_logloss: 0.0963828\n",
      "[91]\tvalid_0's binary_logloss: 0.0965765\n",
      "[92]\tvalid_0's binary_logloss: 0.0961486\n",
      "[93]\tvalid_0's binary_logloss: 0.0960399\n",
      "[94]\tvalid_0's binary_logloss: 0.0965793\n",
      "[95]\tvalid_0's binary_logloss: 0.095377\n",
      "[96]\tvalid_0's binary_logloss: 0.0960302\n",
      "[97]\tvalid_0's binary_logloss: 0.0957582\n",
      "[98]\tvalid_0's binary_logloss: 0.0965154\n",
      "[99]\tvalid_0's binary_logloss: 0.096979\n",
      "[100]\tvalid_0's binary_logloss: 0.097582\n",
      "[101]\tvalid_0's binary_logloss: 0.0973586\n",
      "[102]\tvalid_0's binary_logloss: 0.0976763\n",
      "[103]\tvalid_0's binary_logloss: 0.0988079\n",
      "[104]\tvalid_0's binary_logloss: 0.0985\n",
      "[105]\tvalid_0's binary_logloss: 0.0987756\n",
      "[106]\tvalid_0's binary_logloss: 0.0984633\n",
      "[107]\tvalid_0's binary_logloss: 0.0992847\n",
      "[108]\tvalid_0's binary_logloss: 0.0993452\n",
      "[109]\tvalid_0's binary_logloss: 0.0994596\n",
      "[110]\tvalid_0's binary_logloss: 0.100083\n",
      "[111]\tvalid_0's binary_logloss: 0.100261\n",
      "[112]\tvalid_0's binary_logloss: 0.100147\n",
      "[113]\tvalid_0's binary_logloss: 0.100024\n",
      "[114]\tvalid_0's binary_logloss: 0.100415\n",
      "[115]\tvalid_0's binary_logloss: 0.100752\n",
      "[116]\tvalid_0's binary_logloss: 0.101505\n",
      "[117]\tvalid_0's binary_logloss: 0.102454\n",
      "[118]\tvalid_0's binary_logloss: 0.102386\n",
      "[119]\tvalid_0's binary_logloss: 0.103152\n",
      "[120]\tvalid_0's binary_logloss: 0.103045\n",
      "[121]\tvalid_0's binary_logloss: 0.102721\n",
      "[122]\tvalid_0's binary_logloss: 0.102977\n",
      "[123]\tvalid_0's binary_logloss: 0.102963\n",
      "[124]\tvalid_0's binary_logloss: 0.103242\n",
      "[125]\tvalid_0's binary_logloss: 0.103729\n",
      "[126]\tvalid_0's binary_logloss: 0.103646\n",
      "[127]\tvalid_0's binary_logloss: 0.104345\n",
      "[128]\tvalid_0's binary_logloss: 0.104847\n",
      "[129]\tvalid_0's binary_logloss: 0.106264\n",
      "[130]\tvalid_0's binary_logloss: 0.105722\n",
      "[131]\tvalid_0's binary_logloss: 0.104995\n",
      "[132]\tvalid_0's binary_logloss: 0.105306\n",
      "[133]\tvalid_0's binary_logloss: 0.105565\n",
      "[134]\tvalid_0's binary_logloss: 0.104855\n",
      "[135]\tvalid_0's binary_logloss: 0.105881\n",
      "[136]\tvalid_0's binary_logloss: 0.105356\n",
      "[137]\tvalid_0's binary_logloss: 0.105441\n",
      "[138]\tvalid_0's binary_logloss: 0.106158\n",
      "[139]\tvalid_0's binary_logloss: 0.107109\n",
      "[140]\tvalid_0's binary_logloss: 0.105715\n",
      "[141]\tvalid_0's binary_logloss: 0.10589\n",
      "[142]\tvalid_0's binary_logloss: 0.106898\n",
      "[143]\tvalid_0's binary_logloss: 0.106579\n",
      "[144]\tvalid_0's binary_logloss: 0.107365\n",
      "[145]\tvalid_0's binary_logloss: 0.108065\n",
      "[146]\tvalid_0's binary_logloss: 0.108825\n",
      "[147]\tvalid_0's binary_logloss: 0.109806\n",
      "[148]\tvalid_0's binary_logloss: 0.109512\n",
      "[149]\tvalid_0's binary_logloss: 0.109879\n",
      "[150]\tvalid_0's binary_logloss: 0.110013\n",
      "[151]\tvalid_0's binary_logloss: 0.110158\n",
      "[152]\tvalid_0's binary_logloss: 0.109616\n",
      "[153]\tvalid_0's binary_logloss: 0.109945\n",
      "[154]\tvalid_0's binary_logloss: 0.110416\n",
      "[155]\tvalid_0's binary_logloss: 0.11119\n",
      "[156]\tvalid_0's binary_logloss: 0.11124\n",
      "[157]\tvalid_0's binary_logloss: 0.11142\n",
      "[158]\tvalid_0's binary_logloss: 0.112218\n",
      "[159]\tvalid_0's binary_logloss: 0.113187\n",
      "[160]\tvalid_0's binary_logloss: 0.113873\n",
      "[161]\tvalid_0's binary_logloss: 0.11366\n",
      "[162]\tvalid_0's binary_logloss: 0.11245\n",
      "[163]\tvalid_0's binary_logloss: 0.111963\n",
      "[164]\tvalid_0's binary_logloss: 0.111678\n",
      "[165]\tvalid_0's binary_logloss: 0.111874\n",
      "[166]\tvalid_0's binary_logloss: 0.11265\n",
      "[167]\tvalid_0's binary_logloss: 0.113104\n",
      "[168]\tvalid_0's binary_logloss: 0.113498\n",
      "[169]\tvalid_0's binary_logloss: 0.112711\n",
      "[170]\tvalid_0's binary_logloss: 0.113493\n",
      "[171]\tvalid_0's binary_logloss: 0.11458\n",
      "[172]\tvalid_0's binary_logloss: 0.114183\n",
      "[173]\tvalid_0's binary_logloss: 0.113072\n",
      "[174]\tvalid_0's binary_logloss: 0.114637\n",
      "[175]\tvalid_0's binary_logloss: 0.114474\n",
      "[176]\tvalid_0's binary_logloss: 0.114617\n",
      "[177]\tvalid_0's binary_logloss: 0.114926\n",
      "[178]\tvalid_0's binary_logloss: 0.114133\n",
      "[179]\tvalid_0's binary_logloss: 0.113879\n",
      "[180]\tvalid_0's binary_logloss: 0.115356\n",
      "[181]\tvalid_0's binary_logloss: 0.116585\n",
      "[182]\tvalid_0's binary_logloss: 0.117418\n",
      "[183]\tvalid_0's binary_logloss: 0.117389\n",
      "[184]\tvalid_0's binary_logloss: 0.118064\n",
      "[185]\tvalid_0's binary_logloss: 0.119108\n",
      "XGBoost EarlyStopping 정확도: 0.9720\n"
     ]
    }
   ],
   "source": [
    "from lightgbm import LGBMClassifier\n",
    "\n",
    "lgbmc_model2 = LGBMClassifier(n_estimators=400, learning_rate=0.1, max_depth=3)\n",
    "evals = [(X_test, y_test)]\n",
    "lgbmc_model2.fit(X_train, y_train, early_stopping_rounds=100, eval_metric=\"logloss\", eval_set=evals, verbose=True)\n",
    "lgbmc_pred = lgbmc_model2.predict(X_test)             # X_test 가지고 비교해보겠다\n",
    "lgbmc_accuracy = accuracy_score(y_test, xgb_pred)   # y와 y^ 비교\n",
    "print('XGBoost EarlyStopping 정확도: {0:.4f}'.format(xgb_accuracy))\n",
    "\n"
   ]
  },
  {
   "cell_type": "markdown",
   "metadata": {},
   "source": [
    "### [10] VotingClassifier를 사용해서 앙상블 모델을 생성/학습/평가하기\n",
    " * 개별 모델 : LogisticRegression, KNeighborsClassifier 조합\n",
    " * voting='soft'"
   ]
  },
  {
   "cell_type": "code",
   "execution_count": 33,
   "metadata": {},
   "outputs": [
    {
     "name": "stdout",
     "output_type": "stream",
     "text": [
      "VotingClassifier 정확도: 0.9301\n"
     ]
    }
   ],
   "source": [
    "from sklearn.ensemble import VotingClassifier\n",
    "\n",
    "voting_model = VotingClassifier( estimators=[('LR',lg_model),('KNN',kn_model)] , voting='soft' )\n",
    "# 하나는 로지스틱 모델, 하나는 knn 모델 이 2개를 앙상블(조합)해서 만들겠다!\n",
    "# 클래시파이 하는 법이 좀 다름\n",
    "\n",
    "voting_model.fit(X_train , y_train)\n",
    "pred = voting_model.predict(X_test)\n",
    "accuracy = accuracy_score(y_test , pred)\n",
    "print('VotingClassifier 정확도: {0:.4f}'.format(accuracy))\n"
   ]
  },
  {
   "cell_type": "markdown",
   "metadata": {},
   "source": [
    "### [11] GridSearchCV를 사용해서 RandomForestClassifier의 하이퍼파라미터를 튜닝하기\n",
    " *     'n_estimators':[100],\n",
    " *   'max_depth' : [6, 8, 10, 12], \n",
    " *   'min_samples_leaf' : [8, 12, 18 ],\n",
    " *   'min_samples_split' : [8, 16, 20]"
   ]
  },
  {
   "cell_type": "code",
   "execution_count": 34,
   "metadata": {},
   "outputs": [
    {
     "data": {
      "text/html": [
       "<div>\n",
       "<style scoped>\n",
       "    .dataframe tbody tr th:only-of-type {\n",
       "        vertical-align: middle;\n",
       "    }\n",
       "\n",
       "    .dataframe tbody tr th {\n",
       "        vertical-align: top;\n",
       "    }\n",
       "\n",
       "    .dataframe thead th {\n",
       "        text-align: right;\n",
       "    }\n",
       "</style>\n",
       "<table border=\"1\" class=\"dataframe\">\n",
       "  <thead>\n",
       "    <tr style=\"text-align: right;\">\n",
       "      <th></th>\n",
       "      <th>mean_fit_time</th>\n",
       "      <th>std_fit_time</th>\n",
       "      <th>mean_score_time</th>\n",
       "      <th>std_score_time</th>\n",
       "      <th>param_max_depth</th>\n",
       "      <th>param_min_samples_leaf</th>\n",
       "      <th>param_min_samples_split</th>\n",
       "      <th>param_n_estimators</th>\n",
       "      <th>params</th>\n",
       "      <th>split0_test_score</th>\n",
       "      <th>split1_test_score</th>\n",
       "      <th>split2_test_score</th>\n",
       "      <th>mean_test_score</th>\n",
       "      <th>std_test_score</th>\n",
       "      <th>rank_test_score</th>\n",
       "    </tr>\n",
       "  </thead>\n",
       "  <tbody>\n",
       "    <tr>\n",
       "      <th>0</th>\n",
       "      <td>0.200801</td>\n",
       "      <td>0.020225</td>\n",
       "      <td>0.014615</td>\n",
       "      <td>0.00126</td>\n",
       "      <td>6</td>\n",
       "      <td>8</td>\n",
       "      <td>8</td>\n",
       "      <td>100</td>\n",
       "      <td>{'max_depth': 6, 'min_samples_leaf': 8, 'min_s...</td>\n",
       "      <td>0.943662</td>\n",
       "      <td>0.943662</td>\n",
       "      <td>0.93662</td>\n",
       "      <td>0.941315</td>\n",
       "      <td>0.00332</td>\n",
       "      <td>14</td>\n",
       "    </tr>\n",
       "  </tbody>\n",
       "</table>\n",
       "</div>"
      ],
      "text/plain": [
       "   mean_fit_time  std_fit_time  mean_score_time  std_score_time  \\\n",
       "0       0.200801      0.020225         0.014615         0.00126   \n",
       "\n",
       "  param_max_depth param_min_samples_leaf param_min_samples_split  \\\n",
       "0               6                      8                       8   \n",
       "\n",
       "  param_n_estimators                                             params  \\\n",
       "0                100  {'max_depth': 6, 'min_samples_leaf': 8, 'min_s...   \n",
       "\n",
       "   split0_test_score  split1_test_score  split2_test_score  mean_test_score  \\\n",
       "0           0.943662           0.943662            0.93662         0.941315   \n",
       "\n",
       "   std_test_score  rank_test_score  \n",
       "0         0.00332               14  "
      ]
     },
     "execution_count": 34,
     "metadata": {},
     "output_type": "execute_result"
    }
   ],
   "source": [
    "from sklearn.model_selection import GridSearchCV\n",
    "# 최적의 하이퍼파라미터를 찾아준다..\n",
    "\n",
    "# 나무를 100개정도 만들고 깊이, 나뭇잎 등등을 아래처럼 해보겠다. 깊이는 6,8,10,12로 해보고\n",
    "# 나뭇잎은 8, 12, 18로 해보고 split도 8, 16, 20 해보고\n",
    "params = {\n",
    "    'n_estimators':[100],\n",
    "    'max_depth' : [6, 8, 10, 12], \n",
    "    'min_samples_leaf' : [8, 12, 18],\n",
    "    'min_samples_split' : [8, 16, 20]\n",
    "}\n",
    "\n",
    "\n",
    "\n",
    "# RandomForestClassifier 객체 생성 후 GridSearchCV 수행\n",
    "rf_model = RandomForestClassifier()\n",
    "\n",
    "grid_rf = GridSearchCV(rf_model, param_grid=params, cv=3)\n",
    "# 학습해라\n",
    "grid_rf.fit(X_train, y_train)\n",
    "\n",
    "scores_df = pd.DataFrame(grid_rf.cv_results_)\n",
    "scores_df.head(1)\n"
   ]
  },
  {
   "cell_type": "code",
   "execution_count": 35,
   "metadata": {},
   "outputs": [
    {
     "name": "stdout",
     "output_type": "stream",
     "text": [
      "최적 하이 파라미터: {'max_depth': 8, 'min_samples_leaf': 12, 'min_samples_split': 20, 'n_estimators': 100}\n"
     ]
    }
   ],
   "source": [
    "# grid_rf.best_estimator_\n",
    "\n",
    "print('최적 하이 파라미터:', grid_rf.best_params_)"
   ]
  },
  {
   "cell_type": "markdown",
   "metadata": {},
   "source": [
    "### [Q12] GridSearchCV를 사용해서 GBM의 하이퍼파라미터를 튜닝하세요\n",
    "    * 'n_estimators':[100, 500],\n",
    "    * 'learning_rate' : [ 0.05, 0.1]"
   ]
  },
  {
   "cell_type": "code",
   "execution_count": 36,
   "metadata": {},
   "outputs": [
    {
     "data": {
      "text/html": [
       "<div>\n",
       "<style scoped>\n",
       "    .dataframe tbody tr th:only-of-type {\n",
       "        vertical-align: middle;\n",
       "    }\n",
       "\n",
       "    .dataframe tbody tr th {\n",
       "        vertical-align: top;\n",
       "    }\n",
       "\n",
       "    .dataframe thead th {\n",
       "        text-align: right;\n",
       "    }\n",
       "</style>\n",
       "<table border=\"1\" class=\"dataframe\">\n",
       "  <thead>\n",
       "    <tr style=\"text-align: right;\">\n",
       "      <th></th>\n",
       "      <th>mean_fit_time</th>\n",
       "      <th>std_fit_time</th>\n",
       "      <th>mean_score_time</th>\n",
       "      <th>std_score_time</th>\n",
       "      <th>param_learning_rate</th>\n",
       "      <th>param_n_estimators</th>\n",
       "      <th>params</th>\n",
       "      <th>split0_test_score</th>\n",
       "      <th>split1_test_score</th>\n",
       "      <th>split2_test_score</th>\n",
       "      <th>mean_test_score</th>\n",
       "      <th>std_test_score</th>\n",
       "      <th>rank_test_score</th>\n",
       "    </tr>\n",
       "  </thead>\n",
       "  <tbody>\n",
       "    <tr>\n",
       "      <th>0</th>\n",
       "      <td>0.246991</td>\n",
       "      <td>0.007828</td>\n",
       "      <td>0.003009</td>\n",
       "      <td>0.000022</td>\n",
       "      <td>0.05</td>\n",
       "      <td>100</td>\n",
       "      <td>{'learning_rate': 0.05, 'n_estimators': 100}</td>\n",
       "      <td>0.957746</td>\n",
       "      <td>0.964789</td>\n",
       "      <td>0.957746</td>\n",
       "      <td>0.960094</td>\n",
       "      <td>0.003320</td>\n",
       "      <td>2</td>\n",
       "    </tr>\n",
       "    <tr>\n",
       "      <th>1</th>\n",
       "      <td>1.156869</td>\n",
       "      <td>0.010926</td>\n",
       "      <td>0.002979</td>\n",
       "      <td>0.000019</td>\n",
       "      <td>0.05</td>\n",
       "      <td>500</td>\n",
       "      <td>{'learning_rate': 0.05, 'n_estimators': 500}</td>\n",
       "      <td>0.957746</td>\n",
       "      <td>0.978873</td>\n",
       "      <td>0.957746</td>\n",
       "      <td>0.964789</td>\n",
       "      <td>0.009959</td>\n",
       "      <td>1</td>\n",
       "    </tr>\n",
       "    <tr>\n",
       "      <th>2</th>\n",
       "      <td>0.245002</td>\n",
       "      <td>0.011427</td>\n",
       "      <td>0.003007</td>\n",
       "      <td>0.000813</td>\n",
       "      <td>0.1</td>\n",
       "      <td>100</td>\n",
       "      <td>{'learning_rate': 0.1, 'n_estimators': 100}</td>\n",
       "      <td>0.957746</td>\n",
       "      <td>0.957746</td>\n",
       "      <td>0.957746</td>\n",
       "      <td>0.957746</td>\n",
       "      <td>0.000000</td>\n",
       "      <td>3</td>\n",
       "    </tr>\n",
       "    <tr>\n",
       "      <th>3</th>\n",
       "      <td>1.245957</td>\n",
       "      <td>0.014251</td>\n",
       "      <td>0.003657</td>\n",
       "      <td>0.000469</td>\n",
       "      <td>0.1</td>\n",
       "      <td>500</td>\n",
       "      <td>{'learning_rate': 0.1, 'n_estimators': 500}</td>\n",
       "      <td>0.957746</td>\n",
       "      <td>0.950704</td>\n",
       "      <td>0.964789</td>\n",
       "      <td>0.957746</td>\n",
       "      <td>0.005750</td>\n",
       "      <td>3</td>\n",
       "    </tr>\n",
       "  </tbody>\n",
       "</table>\n",
       "</div>"
      ],
      "text/plain": [
       "   mean_fit_time  std_fit_time  mean_score_time  std_score_time  \\\n",
       "0       0.246991      0.007828         0.003009        0.000022   \n",
       "1       1.156869      0.010926         0.002979        0.000019   \n",
       "2       0.245002      0.011427         0.003007        0.000813   \n",
       "3       1.245957      0.014251         0.003657        0.000469   \n",
       "\n",
       "  param_learning_rate param_n_estimators  \\\n",
       "0                0.05                100   \n",
       "1                0.05                500   \n",
       "2                 0.1                100   \n",
       "3                 0.1                500   \n",
       "\n",
       "                                         params  split0_test_score  \\\n",
       "0  {'learning_rate': 0.05, 'n_estimators': 100}           0.957746   \n",
       "1  {'learning_rate': 0.05, 'n_estimators': 500}           0.957746   \n",
       "2   {'learning_rate': 0.1, 'n_estimators': 100}           0.957746   \n",
       "3   {'learning_rate': 0.1, 'n_estimators': 500}           0.957746   \n",
       "\n",
       "   split1_test_score  split2_test_score  mean_test_score  std_test_score  \\\n",
       "0           0.964789           0.957746         0.960094        0.003320   \n",
       "1           0.978873           0.957746         0.964789        0.009959   \n",
       "2           0.957746           0.957746         0.957746        0.000000   \n",
       "3           0.950704           0.964789         0.957746        0.005750   \n",
       "\n",
       "   rank_test_score  \n",
       "0                2  \n",
       "1                1  \n",
       "2                3  \n",
       "3                3  "
      ]
     },
     "execution_count": 36,
     "metadata": {},
     "output_type": "execute_result"
    }
   ],
   "source": [
    "from sklearn.model_selection import GridSearchCV\n",
    "\n",
    "params = {\n",
    "    'n_estimators':[100, 500],\n",
    "    'learning_rate' : [ 0.05, 0.1]\n",
    "}\n",
    "\n",
    "gbm_model = GradientBoostingClassifier()\n",
    "\n",
    "grid_gbm = GridSearchCV(gbm_model, param_grid=params, cv=3)\n",
    "# 학습해라\n",
    "grid_gbm.fit(X_train, y_train)\n",
    "\n",
    "scores_df = pd.DataFrame(grid_gbm.cv_results_)\n",
    "scores_df"
   ]
  },
  {
   "cell_type": "code",
   "execution_count": 37,
   "metadata": {},
   "outputs": [
    {
     "name": "stdout",
     "output_type": "stream",
     "text": [
      "최적 하이 파라미터: {'learning_rate': 0.05, 'n_estimators': 500}\n",
      "최고 예측 정확도: 0.9301\n"
     ]
    }
   ],
   "source": [
    "print('최적 하이 파라미터:', grid_gbm.best_params_)\n",
    "\n",
    "print('최고 예측 정확도: {0:.4f}'.format(accuracy_score(y_test,pred)))"
   ]
  },
  {
   "cell_type": "code",
   "execution_count": null,
   "metadata": {},
   "outputs": [],
   "source": []
  }
 ],
 "metadata": {
  "kernelspec": {
   "display_name": "Python 3",
   "language": "python",
   "name": "python3"
  },
  "language_info": {
   "codemirror_mode": {
    "name": "ipython",
    "version": 3
   },
   "file_extension": ".py",
   "mimetype": "text/x-python",
   "name": "python",
   "nbconvert_exporter": "python",
   "pygments_lexer": "ipython3",
   "version": "3.8.8"
  },
  "toc": {
   "base_numbering": 1,
   "nav_menu": {},
   "number_sections": false,
   "sideBar": true,
   "skip_h1_title": false,
   "title_cell": "Table of Contents",
   "title_sidebar": "Contents",
   "toc_cell": false,
   "toc_position": {
    "height": "calc(100% - 180px)",
    "left": "10px",
    "top": "150px",
    "width": "341.319px"
   },
   "toc_section_display": true,
   "toc_window_display": true
  }
 },
 "nbformat": 4,
 "nbformat_minor": 4
}
